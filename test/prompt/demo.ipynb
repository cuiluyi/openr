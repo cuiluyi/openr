{
 "cells": [
  {
   "cell_type": "code",
   "execution_count": 1,
   "metadata": {},
   "outputs": [],
   "source": [
    "import os\n",
    "os.environ[\"CUDA_VISIBLE_DEVICES\"] = \"7\""
   ]
  },
  {
   "cell_type": "markdown",
   "metadata": {},
   "source": [
    "## deepseek"
   ]
  },
  {
   "cell_type": "code",
   "execution_count": null,
   "metadata": {},
   "outputs": [],
   "source": [
    "from openai import OpenAI\n",
    "\n",
    "# Please install OpenAI SDK first: `pip3 install openai`\n",
    "client = OpenAI(\n",
    "    base_url=\"https://api.deepseek.com\",\n",
    "    api_key=\"sk-3660ca00f4d644e0b568e8da69c33be3\"\n",
    ")"
   ]
  },
  {
   "cell_type": "markdown",
   "metadata": {},
   "source": [
    "### Prompt Generation"
   ]
  },
  {
   "cell_type": "code",
   "execution_count": 8,
   "metadata": {},
   "outputs": [
    {
     "name": "stdout",
     "output_type": "stream",
     "text": [
      "```markdown\n",
      "# Role: Math Solution Simplifier\n",
      "\n",
      "## Profile\n",
      "- **Purpose**: Condense mathematical solutions by removing redundant steps while preserving logical flow and accuracy.  \n",
      "- **Skills**:  \n",
      "  - Identifies core reasoning steps in proofs/solutions.  \n",
      "  - Eliminates repetitive calculations or verbose explanations.  \n",
      "  - Maintains mathematical rigor and clarity.  \n",
      "- **Knowledge**: Formal logic, common mathematical redundancies (e.g., over-explained axioms), and STEM writing conventions.  \n",
      "\n",
      "## Rules\n",
      "1. **Input**: A detailed mathematical solution (LaTeX/markdown/text).  \n",
      "2. **Output**: A streamlined version with:  \n",
      "   - Only essential steps.  \n",
      "   - No repeated formulas/definitions.  \n",
      "   - Concise phrasing (e.g., \"∵ symmetry\" vs. \"due to the symmetric property of...\").  \n",
      "3. **Preserve**: Key conclusions, non-trivial deductions, and original notation.  \n",
      "\n",
      "## Workflow\n",
      "1. Parse the solution into logical segments.  \n",
      "2. For each segment:  \n",
      "   - **Check**: Is this step *necessary* for correctness or clarity?  \n",
      "   - **Cut**: Explanations of basic concepts, intermediate arithmetic.  \n",
      "   - **Keep**: Novel insights, critical dependencies.  \n",
      "3. Reconstruct the solution with minimal viable steps.  \n",
      "\n",
      "## Output Format\n",
      "```markdown\n",
      "### Simplified Solution  \n",
      "[Condensed steps, 30-50% shorter than original]  \n",
      "```  \n",
      "\n",
      "## Example (Input → Output)\n",
      "**Input**:  \n",
      "\"First, we recall the Pythagorean theorem: \\(a^2 + b^2 = c^2\\). Given a right triangle with sides 3 and 4, we apply the theorem: \\(3^2 + 4^2 = 9 + 16 = 25 = c^2\\). Taking the square root, \\(c = 5\\).\"  \n",
      "\n",
      "**Output**:  \n",
      "```markdown\n",
      "### Simplified Solution  \n",
      "For a 3-4-5 right triangle, \\(c = \\sqrt{3^2 + 4^2} = 5\\).  \n",
      "```  \n",
      "```\n"
     ]
    }
   ],
   "source": [
    "completion = client.chat.completions.create(\n",
    "    model=\"deepseek-chat\",\n",
    "    messages=[\n",
    "        {\n",
    "                \"role\": \"system\",\n",
    "                \"content\": \"你是一位大模型提示词生成专家，请根据用户的需求编写一个智能助手的提示词，来指导大模型进行内容生成，要求：\\n1. 以 Markdown 格式输出\\n2. 贴合用户需求，描述智能助手的定位、能力、知识储备\\n3. 提示词应清晰、精确、易于理解，在保持质量的同时，尽可能简洁\\n4. 只输出提示词，不要输出多余解释\"\n",
    "        },\n",
    "        {\n",
    "                \"role\": \"user\",\n",
    "                \"content\": \"请帮我生成一个“精简数学解答”的提示词：它能将给定的解决方案（Solution，即思维链推理步骤）进行内容精简，删除冗余内容，提示词请用英文输出\"\n",
    "        }\n",
    "    ],\n",
    "    stream=False\n",
    ")\n",
    "\n",
    "print(completion.choices[0].message.content)"
   ]
  },
  {
   "cell_type": "markdown",
   "metadata": {},
   "source": [
    "### Data Generation"
   ]
  },
  {
   "cell_type": "code",
   "execution_count": null,
   "metadata": {},
   "outputs": [],
   "source": [
    "sys_content = \"\"\"\n",
    "# Math Solution Corrector Assistant\n",
    "\n",
    "## Role:\n",
    "You are a Math Solution Corrector Assistant, an AI designed to evaluate and correct mathematical solutions. Your primary function is to analyze a list of candidate solutions (COT reasoning steps) for a given math problem, compare them against the standard answer, identify any errors, and determine the most correct solution.\n",
    "\n",
    "## Capabilities:\n",
    "- **Error Detection**: You can identify logical, computational, or conceptual errors in the candidate solutions.\n",
    "- **Explanation**: You can explain why a particular solution is incorrect, providing clear and concise reasoning.\n",
    "- **Solution Ranking**: You can rank the candidate solutions based on their correctness and select the most accurate one.\n",
    "\n",
    "## Knowledge Base:\n",
    "- **Mathematical Concepts**: You have a deep understanding of various mathematical concepts, including algebra, calculus, geometry, and more.\n",
    "- **Problem-Solving Techniques**: You are familiar with common problem-solving strategies and can recognize when they are applied correctly or incorrectly.\n",
    "- **Standard Solutions**: You can compare candidate solutions against a standard answer to determine their validity.\n",
    "\n",
    "## Instructions:\n",
    "1. **Input**: Receive a math problem, a standard answer, and a list of candidate solutions (COT reasoning steps).\n",
    "2. **Analysis**: For each candidate solution:\n",
    "   - Compare it against the standard answer.\n",
    "   - Identify any errors (logical, computational, or conceptual).\n",
    "   - Provide a clear explanation of why the solution is incorrect, if applicable.\n",
    "3. **Ranking**: Rank the candidate solutions based on their correctness.\n",
    "4. **Output**: \n",
    "   - A detailed analysis of each candidate solution, including error explanations.\n",
    "   - Return the most correct answer presented in `\\boxed{XXX}` format.\n",
    "\n",
    "## Example:\n",
    "**Problem**: Find the roots of $2x + 3 = 7$ \n",
    "**Standard Answer**: 2  \n",
    "**Candidate Solutions**:\n",
    "- Solution1: To find the roots of the equation \\\\(2x + 3 = 7\\\\), we need to solve for \\\\(x\\\\). Here are the steps:\\n\\n1. Start with the given equation:\\n   \\\\[\\n   2x + 3 = 7\\n   \\\\]\\n\\n2. Subtract 3 from both sides of the equation to isolate the term with \\\\(x\\\\):\\n   \\\\[\\n   2x + 3 - 3 = 7 - 3\\n   \\\\]\\n   Simplifying this, we get:\\n   \\\\[\\n   2x = 4\\n   \\\\]\\n\\n3. Divide both sides of the equation by 2 to solve for \\\\(x\\\\):\\n   \\\\[\\n   \\\\frac{2x}{2} = \\\\frac{4}{2}\\n   \\\\]\\n   Simplifying this, we get:\\n   \\\\[\\n   x = 2\\n   \\\\]\\n\\nTherefore, the root of the equation \\\\(2x + 3 = 7\\\\) is \\\\(\\\\boxed{2}\\\\).\n",
    "- Solution2: To find the roots of the equation \\\\(2x + 3 = 7\\\\), we need to solve for \\\\(x\\\\). Here are the steps:\\n\\n1. Start with the given equation:\\n   \\\\[\\n   2x + 3 = 7\\n   \\\\]\\n\\n2. Subtract 3 from both sides of the equation to isolate the term with \\\\(x\\\\):\\n   \\\\[\\n   2x + 3 - 3 = 7 - 3\\n   \\\\]\\n   Simplifying this, we get:\\n   \\\\[\\n   2x = 10\\n   \\\\]\\n\\n3. Divide both sides of the equation by 2 to solve for \\\\(x\\\\):\\n   \\\\[\\n   \\\\frac{2x}{2} = \\\\frac{10}{2}\\n   \\\\]\\n   Simplifying this, we get:\\n   \\\\[\\n   x = 5\\n   \\\\]\\n\\nTherefore, the root of the equation \\\\(2x + 3 = 7\\\\) is \\\\(\\\\boxed{5}\\\\).\n",
    "- Solution3: To find the roots of the equation \\\\(2x + 3 = 7\\\\), we need to solve for \\\\(x\\\\). Here are the steps:\\n\\n1. Start with the given equation:\\n   \\\\[\\n   2x + 3 = 7\\n   \\\\]\\n\\n2. Subtract 3 from both sides of the equation to isolate the term with \\\\(x\\\\):\\n   \\\\[\\n   2x + 3 - 3 = 7 - 3\\n   \\\\]\\n   Simplifying this, we get:\\n   \\\\[\\n   2x = 4\\n   \\\\]\\n\\n3. Divide both sides of the equation by 2 to solve for \\\\(x\\\\):\\n   \\\\[\\n   \\\\frac{2x}{2} = \\\\frac{4}{2}\\n   \\\\]\\n   Simplifying this, we get:\\n   \\\\[\\n   x = 1\\n   \\\\]\\n\\nTherefore, the root of the equation \\\\(2x + 3 = 7\\\\) is \\\\(\\\\boxed{1}\\\\).\n",
    "\n",
    "**Output**:\n",
    "- **Solution 1**: Correct. No errors detected.\n",
    "- **Solution 2**: Incorrect. Error in the step \"2x = 10\". Given the previous steps' conclusion that \"2x + 3 - 3 = 7 - 3\", The correct next step should be \"2x = 4\".\n",
    "- **Solution 3**: Incorrect. Error in the step \"x = 1\". Given the previous steps' conclusion that \"\\\\frac{2x}{2} = \\\\frac{4}{2}\", The correct next step should be \"x = 2\".\n",
    "- **Most Correct Answer**: \\(\\boxed{2}\\).\n",
    "\n",
    "## Notes:\n",
    "- Ensure that your explanations are clear and concise.\n",
    "- Focus on identifying the root cause of errors in the solutions.\n",
    "- Always provide the most correct solution based on the standard answer.\n",
    "\"\"\""
   ]
  },
  {
   "cell_type": "code",
   "execution_count": null,
   "metadata": {},
   "outputs": [],
   "source": [
    "content = \"\"\"\n",
    "**Problem**: Question: The proper divisors of 12 are 1, 2, 3, 4 and 6. A proper divisor of an integer $N$ is a positive divisor of $N$ that is less than $N$. What is the sum of the proper divisors of the sum of the proper divisors of 284?\\n\n",
    "**Standard Answer**: 284  \n",
    "**Candidate Solutions**:\n",
    "- Solution1: To solve the problem, we will follow these steps:\\n\\n1. Determine the proper divisors of 284.\\n2. Sum these proper divisors to get a new number.\\n3. Find the proper divisors of this new number.\\n4. Sum these proper divisors.\\n\\nFirst, let's find the proper divisors of 284. The number 284 can be factored as \\\\(284 = 2^2 \\\\times 71\\\\). The divisors of 284 are 1, 2, 4, 71, 142, and 284. The proper divisors (excluding 284 itself) are 1, 2, 4, 71, and 142. Summing these proper divisors, we get:\\n\\\\[\\n1 + 2 + 4 + 71 + 142 = 220\\n\\\\]\\nSo, the sum of the proper divisors of 284 is 220.\\n\\nNext, we need to find the proper divisors of 220. The number 220 can be factored as \\\\(220 = 2^2 \\\\times 5 \\\\times 11\\\\). The divisors of 220 are 1, 2, 4, 5, 10, 11, 20, 22, 44, 55, 110, and 220. The proper divisors (excluding 220 itself) are 1, 2, 4, 5, 10, 11, 20, 22, 44, 55, and 110. Summing these proper divisors, we get:\\n\\\\[\\n1 + 2 + 4 + 5 + 10 + 11 + 20 + 22 + 44 + 55 + 110 = 284\\n\\\\]\\nSo, the sum of the proper divisors of 220 is 284.\\n\\nTherefore, the sum of the proper divisors of the sum of the proper divisors of 284 is \\\\(\\\\boxed{284}\\\\).\\n\\n\\n\n",
    "- Solution2: To find the sum of the proper divisors of the sum of the proper divisors of 284, we need to follow these steps:\\n\\n1. Determine the proper divisors of 284.\\n2. Calculate the sum of these proper divisors.\\n3. Determine the proper divisors of the sum obtained in step 2.\\n4. Calculate the sum of these proper divisors.\\n\\nFirst, let's find the proper divisors of 284. The prime factorization of 284 is \\\\(284 = 2^2 \\\\times 71\\\\). The proper divisors of 284 are all the divisors of 284 except 284 itself. They are: \\\\(1, 2, 4, 71, 142\\\\). Let's sum these proper divisors:\\n\\\\[\\n1 + 2 + 4 + 71 + 142 = 220\\n\\\\]\\nSo, the sum of the proper divisors of 284 is 220.\\n\\nNext, we need to find the proper divisors of 220. The prime factorization of 220 is \\\\(220 = 2^2 \\\\times 5 \\\\times 11\\\\). The proper divisors of 220 are all the divisors of 220 except 220 itself. They are: \\\\(1, 2, 4, 5, 10, 11, 20, 22, 44, 55\\\\). Let's sum these proper divisors:\\n\\\\[\\n1 + 2 + 4 + 5 + 10 + 11 + 20 + 22 + 44 + 55 = 182\\n\\\\]\\nSo, the sum of the proper divisors of 220 is 182.\\n\\nTherefore, the sum of the proper divisors of the sum of the proper divisors of 284 is \\\\(\\\\boxed{182}\\\\).\\n\\n\n",
    "\"\"\""
   ]
  },
  {
   "cell_type": "code",
   "execution_count": null,
   "metadata": {},
   "outputs": [],
   "source": [
    "response = client.chat.completions.create(\n",
    "    model=\"deepseek-chat\",\n",
    "    messages=[\n",
    "        {\"role\": \"system\", \"content\": sys_content},\n",
    "        {\"role\": \"user\", \"content\": content},\n",
    "    ],\n",
    "    stream=False\n",
    ")\n",
    "\n",
    "print(response.choices[0].message.content)"
   ]
  },
  {
   "cell_type": "markdown",
   "metadata": {},
   "source": [
    "### Answer Selection"
   ]
  },
  {
   "cell_type": "code",
   "execution_count": null,
   "metadata": {},
   "outputs": [],
   "source": [
    "sys_pro_cnt = \"\"\"\n",
    "# Math Solution Selector Assistant\n",
    "\n",
    "## Role\n",
    "You are a Math Solution Selector Assistant, an AI designed to evaluate and select the most appropriate solution from a list of candidate solutions for a given math problem. Your primary task is to analyze the reasoning steps (Chain-of-Thought, COT) provided in each solution and determine which one is most likely to be correct based on logical consistency, mathematical accuracy, and relevance to the problem.\n",
    "\n",
    "## Skills\n",
    "1. **Mathematical Reasoning**: Strong understanding of mathematical concepts and problem-solving techniques.\n",
    "2. **Logical Analysis**: Ability to evaluate the logical flow and coherence of reasoning steps.\n",
    "3. **Decision Making**: Capability to compare multiple solutions and select the most plausible one.\n",
    "4. **Explanation**: Clear and concise explanation of why a particular solution is chosen over others.\n",
    "\n",
    "## Knowledge\n",
    "- **Mathematics**: Proficient in algebra, calculus, geometry, and other mathematical domains.\n",
    "- **Problem-Solving Strategies**: Familiar with various problem-solving approaches and heuristics.\n",
    "- **COT Reasoning**: Expertise in analyzing and interpreting Chain-of-Thought reasoning steps.\n",
    "- **Solution Evaluation**: Knowledge of how to assess the validity and correctness of mathematical solutions.\n",
    "\n",
    "## Instructions\n",
    "1. **Input**: \n",
    "   - A math problem statement.\n",
    "   - A list of candidate solutions, each containing a Chain-of-Thought (COT) reasoning steps.\n",
    "2. **Evaluation**:\n",
    "   - Analyze each solution's reasoning steps for logical consistency and mathematical accuracy.\n",
    "   - Compare the solutions to determine which one best addresses the problem.\n",
    "   - Adherence to the problem's requirements.\n",
    "3. **Selection**: \n",
    "   - Choose the solution that you believe is most likely to be correct.\n",
    "   - Ensure that the selected solution is mathematically sound and logically consistent.\n",
    "4. **Output**:\n",
    "   - A detailed explanation of why this solution was chosen, including any flaws or strengths identified in the other solutions.\n",
    "   - Present the selected solution's final answer enclosed in `\\boxed{}`.\n",
    "\n",
    "## Example\n",
    "### Input \n",
    "**Problem**: The proper divisors of 12 are 1, 2, 3, 4 and 6. A proper divisor of an integer $N$ is a positive divisor of $N$ that is less than $N$. What is the sum of the proper divisors of the sum of the proper divisors of 284?\n",
    "**Candidate Solutions**:\n",
    "- Solution1: To solve the problem, we will follow these steps:\\n\\n1. Determine the proper divisors of 284.\\n2. Sum these proper divisors to get a new number.\\n3. Find the proper divisors of this new number.\\n4. Sum these proper divisors.\\n\\nFirst, let's find the proper divisors of 284. The number 284 can be factored as \\\\(284 = 2^2 \\\\times 71\\\\). The divisors of 284 are 1, 2, 4, 71, 142, and 284. The proper divisors (excluding 284 itself) are 1, 2, 4, 71, and 142. Summing these proper divisors, we get:\\n\\\\[\\n1 + 2 + 4 + 71 + 142 = 220\\n\\\\]\\nSo, the sum of the proper divisors of 284 is 220.\\n\\nNext, we need to find the proper divisors of 220. The number 220 can be factored as \\\\(220 = 2^2 \\\\times 5 \\\\times 11\\\\). The divisors of 220 are 1, 2, 4, 5, 10, 11, 20, 22, 44, 55, 110, and 220. The proper divisors (excluding 220 itself) are 1, 2, 4, 5, 10, 11, 20, 22, 44, 55, and 110. Summing these proper divisors, we get:\\n\\\\[\\n1 + 2 + 4 + 5 + 10 + 11 + 20 + 22 + 44 + 55 + 110 = 284\\n\\\\]\\nSo, the sum of the proper divisors of 220 is 284.\\n\\nTherefore, the sum of the proper divisors of the sum of the proper divisors of 284 is \\\\(\\\\boxed{284}\\\\).\\n\\n\n",
    "- Solution2: To find the sum of the proper divisors of the sum of the proper divisors of 284, we need to follow these steps:\\n\\n1. Determine the proper divisors of 284.\\n2. Calculate the sum of these proper divisors.\\n3. Determine the proper divisors of the sum obtained in step 2.\\n4. Calculate the sum of these proper divisors.\\n\\nFirst, let's find the proper divisors of 284. The prime factorization of 284 is \\\\(284 = 2^2 \\\\times 71\\\\). The proper divisors of 284 are all the divisors of 284 except 284 itself. They are: \\\\(1, 2, 4, 71, 142\\\\). Let's sum these proper divisors:\\n\\\\[\\n1 + 2 + 4 + 71 + 142 = 220\\n\\\\]\\nSo, the sum of the proper divisors of 284 is 220.\\n\\nNext, we need to find the proper divisors of 220. The prime factorization of 220 is \\\\(220 = 2^2 \\\\times 5 \\\\times 11\\\\). The proper divisors of 220 are all the divisors of 220 except 220 itself. They are: \\\\(1, 2, 4, 5, 10, 11, 20, 22, 44, 55\\\\). Let's sum these proper divisors:\\n\\\\[\\n1 + 2 + 4 + 5 + 10 + 11 + 20 + 22 + 44 + 55 = 182\\n\\\\]\\nSo, the sum of the proper divisors of 220 is 182.\\n\\nTherefore, the sum of the proper divisors of the sum of the proper divisors of 284 is \\\\(\\\\boxed{182}\\\\).\\n\\n\n",
    "\n",
    "#### Output\n",
    "Both solutions correctly identify the proper divisors of 284 as 1, 2, 4, 71, and 142, and correctly sum them to get 220. \n",
    "The key difference lies in the calculation of the sum of the proper divisors of 220. \n",
    "Solution 1 correctly identifies all proper divisors of 220 as 1, 2, 4, 5, 10, 11, 20, 22, 44, 55, and 110, and sums them to get 284. \n",
    "Solution 2, however, misses the divisor 110 in its list of proper divisors for 220. This omission leads Solution 2 to an incorrect final sum. In addition, a calculation error occurred in Solution2, where 1 + 2 + 4 + 5 + 10 + 11 + 20 + 22 + 44 + 55 = 182, and the correct answer should be 174.\n",
    "Therefore, Solution 1, with the answer \\\\boxed{284}\\\\, is the most accurate and logically consistent solution to the problem.\\n\\n\n",
    "\n",
    "## Notes\n",
    "- Ensure that your selection is based on a thorough analysis of the reasoning steps.\n",
    "- Provide a clear and concise explanation for your choice.\n",
    "\"\"\""
   ]
  },
  {
   "cell_type": "code",
   "execution_count": null,
   "metadata": {},
   "outputs": [],
   "source": [
    "import jsonlines\n",
    "import importlib\n",
    "\n",
    "task_module = importlib.import_module(f\"envs.MATH\")"
   ]
  },
  {
   "cell_type": "code",
   "execution_count": null,
   "metadata": {},
   "outputs": [],
   "source": [
    "# 示例字符串\n",
    "text = \"### Analysis of Candidate Solutions:\\n\\n---\\n\\n#### **Solution 1**:\\n- **Correctness**: Incorrect.\\n- **Error Explanation**: \\n  - The solution correctly expands \\\\((\\\\sin x)^7\\\\) using complex exponentials and identifies the coefficients of \\\\(\\\\sin x, \\\\sin 3x, \\\\sin 5x,\\\\) and \\\\(\\\\sin 7x\\\\).\\n  - However, the final step incorrectly interprets the coefficient of \\\\(\\\\sin x\\\\) as \\\\(\\\\frac{35i}{64}\\\\), which is not consistent with the problem's context. The problem is asking for the real coefficient of \\\\(\\\\sin x\\\\), not the imaginary part. The correct coefficient should be \\\\(\\\\frac{35}{128}\\\\).\\n- **Conclusion**: The solution is incorrect due to the misinterpretation of the coefficient.\\n\\n---\\n\\n#### **Solution 2**:\\n- **Correctness**: Incorrect.\\n- **Error Explanation**:\\n  - The solution incorrectly assumes that \\\\(b = c = 0\\\\) without justification. This assumption is incorrect because the expansion of \\\\((\\\\sin x)^7\\\\) does involve terms with \\\\(\\\\sin 3x\\\\) and \\\\(\\\\sin 5x\\\\).\\n  - The final value of \\\\(d = \\\\frac{7}{8}\\\\) is incorrect. The correct value should be \\\\(\\\\frac{35}{128}\\\\).\\n- **Conclusion**: The solution is incorrect due to incorrect assumptions and calculations.\\n\\n---\\n\\n#### **Solution 3**:\\n- **Correctness**: Correct.\\n- **Explanation**:\\n  - The solution correctly uses the complex exponential form of \\\\(\\\\sin x\\\\) and expands \\\\((\\\\sin x)^7\\\\) using the binomial theorem.\\n  - It correctly identifies the coefficients of \\\\(\\\\sin x, \\\\sin 3x, \\\\sin 5x,\\\\) and \\\\(\\\\sin 7x\\\\).\\n  - The final value of \\\\(d = \\\\frac{35}{128}\\\\) is correct.\\n- **Conclusion**: The solution is correct.\\n\\n---\\n\\n#### **Solution 4**:\\n- **Correctness**: Incorrect.\\n- **Error Explanation**:\\n  - The solution attempts to use orthogonality and integration to find \\\\(d\\\\), but the calculations are overly complex and incorrect.\\n  - The final value of \\\\(d = \\\\frac{11}{16}\\\\) is incorrect. The correct value should be \\\\(\\\\frac{35}{128}\\\\).\\n- **Conclusion**: The solution is incorrect due to incorrect calculations and methodology.\\n\\n---\\n\\n### **Ranking of Solutions**:\\n1. **Solution 3**: Correct.\\n2. **Solution 1**: Incorrect due to misinterpretation of the coefficient.\\n3. **Solution 2**: Incorrect due to incorrect assumptions and calculations.\\n4. **Solution 4**: Incorrect due to incorrect calculations and methodology.\\n\\n---\\n\\n### **Most Correct Answer**:\\nThe most correct solution is **Solution 3**, which gives the correct value of \\\\(d\\\\) as:\\n\\n\\\\[\\n\\\\boxed{\\\\frac{35}{128}}\\n\\\\]\"\n",
    "\n",
    "# 调用函数\n",
    "result = task_module.extract_answer(text)\n",
    "print(result)  # 输出：456"
   ]
  },
  {
   "cell_type": "code",
   "execution_count": null,
   "metadata": {},
   "outputs": [],
   "source": [
    "def generate_response(content: str):\n",
    "    response = client.chat.completions.create(\n",
    "        model=\"deepseek-chat\",\n",
    "        messages=[\n",
    "            {\"role\": \"system\", \"content\": sys_pro_cnt},\n",
    "            {\"role\": \"user\", \"content\": content},\n",
    "        ],\n",
    "        stream=False\n",
    "    )\n",
    "\n",
    "    return response.choices[0].message.content"
   ]
  },
  {
   "cell_type": "code",
   "execution_count": null,
   "metadata": {},
   "outputs": [],
   "source": [
    "def func(solution_list: list[str]) -> list[str]:\n",
    "    unique_solution_list, unique_answer_list = [], []\n",
    "\n",
    "    for solution in solution_list:\n",
    "        answer = task_module.extract_answer(solution)\n",
    "        if answer in unique_answer_list:\n",
    "            continue\n",
    "        unique_solution_list.append(f\"- Solution{len(unique_answer_list) + 1}: {solution}\")\n",
    "        unique_answer_list.append(answer)\n",
    "\n",
    "    return unique_solution_list\n"
   ]
  },
  {
   "cell_type": "code",
   "execution_count": null,
   "metadata": {},
   "outputs": [],
   "source": [
    "from tqdm import tqdm\n",
    "\n",
    "# file_path = \"results/demo.jsonl\"\n",
    "file_path = \"/data/cuiluyi/openr/results/MATH/vanila_mcts/20241230_005009/record.jsonl\"\n",
    "\n",
    "correct_num, total_num = 0, 0\n",
    "data_list: list[dict] = []\n",
    "\n",
    "with jsonlines.open(file_path) as f:\n",
    "    for obj in tqdm(f, desc=\"Processing lines\"):\n",
    "        question = obj[\"question\"]\n",
    "\n",
    "        ground_solution = obj[\"groundtruth\"]\n",
    "        ground_answer = task_module.extract_answer(ground_solution)\n",
    "\n",
    "        solution_list = [ans[\"text\"] for ans in obj[\"output\"]]\n",
    "        unique_solutions_list = func(solution_list)\n",
    "        unique_solutions: str = '\\n'.join([item for item in unique_solutions_list])\n",
    "\n",
    "        user_content = \"**Problem**: \" + obj[\"question\"] + \"\\n **Candidate Solutions**: \\n\" + unique_solutions\n",
    "        finial_response = generate_response(user_content)\n",
    "        finial_answer = task_module.extract_answer(finial_response)\n",
    "\n",
    "        if finial_answer == ground_answer:\n",
    "            correct_num += 1\n",
    "\n",
    "        total_num += 1\n",
    "\n",
    "        dict_item = {\n",
    "            \"question\": question,\n",
    "            \"ground_solution\": ground_solution,\n",
    "            \"ground_answer\": ground_answer,\n",
    "            \"solution_candidates\": unique_solutions_list,\n",
    "            \"finial_solution\": finial_response,\n",
    "            \"finial_answer\": finial_answer,\n",
    "        }\n",
    "        data_list.append(dict_item)\n",
    "\n",
    "save_path = \"/\".join(file_path.split(\"/\")[:-1]) + \"/\" + \"post_process.jsonl\"\n",
    "\n",
    "with jsonlines.open(save_path, \"w\") as f:\n",
    "    f.write_all(data_list)\n",
    "\n",
    "print(f\"correct_num: {correct_num}, accuracy: {(correct_num / total_num):.3f}\")\n"
   ]
  },
  {
   "cell_type": "code",
   "execution_count": null,
   "metadata": {},
   "outputs": [],
   "source": [
    "a =  {\n",
    "    \"question\": \"In how many ways can $7$ people sit around a round table if no two of the $3$ people Pierre, Rosa, and Thomas can sit next to each other? (Seating arrangements which are rotations of each other are treated as the same.)\",\n",
    "    \"ground_solution\": \"After Pierre sits, we can place Rosa either two seats from Pierre (that is, with one seat between them) or three seats from Pierre. We tackle these two cases separately:\\n\\nCase 1: Rosa is two seats from Pierre. There are $2$ such seats. For either of these, there are then four empty seats in a row, and one empty seat between Rosa and Pierre. Thomas can sit in either of the middle two of the four empty seats in a row. So, there are $2\\\\cdot 2 = 4$ ways to seat Rosa and Thomas in this case. There are then $4$ seats left, which the others can take in $4! = 24$ ways. So, there are $4\\\\cdot 24 = 96$ seatings in this case.\\n\\nCase 2: Rosa is three seats from Pierre (that is, there are $2$ seats between them). There are $2$ such seats. Thomas can't sit in either of the $2$ seats directly between them, but after Rosa sits, there are $3$ empty seats in a row still, and Thomas can only sit in the middle seat of these three. Once again, there are $4$ empty seats remaining, and the $4$ remaining people can sit in them in $4! = 24$ ways. So, we have $2\\\\cdot 24 = 48$ seatings in this case.\\n\\nPutting our two cases together gives a total of $96+48 = \\\\boxed{144}$ seatings.\",\n",
    "    \"ground_answer\": \"144\",\n",
    "    \"solution_candidates\": [\n",
    "      \"- Solution1: To solve the problem of seating 7 people around a round table such that no two of the 3 specific people (Pierre, Rosa, and Thomas) sit next to each other, we can follow these steps:\\n\\n1. **Calculate the total number of ways to arrange 7 people around a round table:**\\n   Since rotations of the same arrangement are considered the same, we fix one person in one position and arrange the remaining 6 people. This gives us \\\\(6!\\\\) (6 factorial) ways to arrange the people.\\n   \\\\[\\n   6! = 720\\n   \\\\]\\n\\n2. **Calculate the number of arrangements where at least two of Pierre, Rosa, and Thomas are sitting next to each other:**\\n   We will use the principle of inclusion-exclusion to count the number of arrangements where at least two of them are sitting next to each other.\\n\\n   - **Case 1: Exactly two of Pierre, Rosa, and Thomas are sitting next to each other.**\\n     Treat the pair as a single \\\"block\\\". This \\\"block\\\" along with the other 5 people can be arranged in a circle in \\\\(5!\\\\) ways. Within the block, the two people can switch places, so there are \\\\(2\\\\) ways to arrange the pair. There are \\\\(\\\\binom{3}{2} = 3\\\\) ways to choose which two of Pierre, Rosa, and Thomas form the block.\\n     \\\\[\\n     3 \\\\times 5! \\\\times 2 = 3 \\\\times 120 \\\\times 2 = 720\\n     \\\\]\\n\\n   - **Case 2: All three of Pierre, Rosa, and Thomas are sitting next to each other.**\\n     Treat the triplet as a single \\\"block\\\". This \\\"block\\\" along with the other 4 people can be arranged in a circle in \\\\(4!\\\\) ways. Within the block, the three people can be arranged in \\\\(3!\\\\) ways.\\n     \\\\[\\n     4! \\\\times 3! = 24 \\\\times 6 = 144\\n     \\\\]\\n\\n   By the principle of inclusion-exclusion, the number of arrangements where at least two of Pierre, Rosa, and Thomas are sitting next to each other is:\\n   \\\\[\\n   720 - 720 + 144 = 144\\n   \\\\]\\n\\n3. **Calculate the number of arrangements where no two of Pierre, Rosa, and Thomas are sitting next to each other:**\\n   Subtract the number of arrangements where at least two of them are sitting next to each other from the total number of arrangements.\\n   \\\\[\\n   720 - 144 = 576\\n   \\\\]\\n\\nTherefore, the number of ways to seat 7 people around a round table such that no two of Pierre, Rosa, and Thomas sit next to each other is \\\\(\\\\boxed{576}\\\\).\\n\\n\",\n",
    "      \"- Solution2: To solve the problem of seating 7 people around a round table such that no two of the 3 specific people (Pierre, Rosa, and Thomas) sit next to each other, we need to follow these steps:\\n\\n1. **Calculate the total number of ways to arrange 7 people around a round table.**\\n\\n   Since seating arrangements that are rotations of each other are considered the same, we fix one person in one position to avoid counting rotations as different arrangements. This leaves us with 6! (6 factorial) ways to arrange the remaining 6 people.\\n   \\\\[\\n   6! = 720\\n   \\\\]\\n\\n2. **Calculate the number of arrangements where at least two of the three people (Pierre, Rosa, and Thomas) are sitting next to each other.**\\n\\n   We use the principle of inclusion-exclusion to count the number of arrangements where at least two of the three people are next to each other. We will consider the cases where exactly two people are next to each other and where all three are next to each other.\\n\\n   - **Case 1: Exactly two people are next to each other.**\\n\\n     Treat the pair as a single \\\"block\\\". This reduces the problem to arranging 6 \\\"blocks\\\" (the pair and the other 5 individuals) around a round table. Fix one block to avoid counting rotations, leaving us with 5! ways to arrange the remaining 5 blocks. Within the block, the two people can switch places, so there are 2 ways to arrange the pair. However, we need to subtract the cases where all three people are next to each other.\\n\\n     The number of ways to arrange the 7 people such that exactly two of them are next to each other is:\\n     \\\\[\\n     5! \\\\times 2 - \\\\text{(number of ways all three are next to each other)}\\n     \\\\]\\n\\n   - **Case 2: All three people are next to each other.**\\n\\n     Treat the three as a single \\\"block\\\". This reduces the problem to arranging 5 \\\"blocks\\\" (the block of three and the other 4 individuals) around a round table. Fix one block to avoid counting rotations, leaving us with 4! ways to arrange the remaining 4 blocks. Within the block, the three people can be arranged in 3! ways.\\n     \\\\[\\n     4! \\\\times 3!\\n     \\\\]\\n\\n   However, we need to use inclusion-exclusion to avoid double-counting the cases where exactly two people are next to each other.\\n\\n3. **Calculate the number of valid arrangements where no two of the three people are next to each other.**\\n\\n   Subtract the number of invalid arrangements (where at least two of the three people are next to each other) from the total number of arrangements.\\n\\n   The number of invalid arrangements is the sum of the number of arrangements where exactly two are next to each other and the number of arrangements where all three are next to each other, minus the overcounted cases (which is zero for this problem since it's not possible to have exactly two next to each other and all three next to each other at the same time in a circular arrangement).\\n\\n   After calculating the invalid arrangements, we subtract this from the total number of arrangements to get the number of valid arrangements.\\n\\n   The number of valid arrangements is:\\n   \\\\[\\n   720 - \\\\text{(number of invalid arrangements)}\\n   \\\\]\\n\\n   After performing the detailed calculations (which involve careful counting and inclusion-exclusion), we find that the number of valid arrangements is 144.\\n\\nTherefore, the number of ways to arrange 7 people around a round table such that no two of the 3 people Pierre, Rosa, and Thomas are next to each other is \\\\(\\\\boxed{144}\\\\).\\n\\n\"\n",
    "    ],\n",
    "    \"finial_solution\": \"### Analysis of Solutions\\n\\n**Problem**: In how many ways can 7 people sit around a round table if no two of the 3 people Pierre, Rosa, and Thomas can sit next to each other? (Seating arrangements which are rotations of each other are treated as the same.)\\n\\n**Solution 1**:\\n1. **Total arrangements**: Fix one person and arrange the remaining 6 people, giving \\\\(6! = 720\\\\) arrangements.\\n2. **Invalid arrangements (at least two of Pierre, Rosa, and Thomas sitting next to each other)**:\\n   - **Case 1 (exactly two sitting next to each other)**: Treat the pair as a single block. There are \\\\(3\\\\) ways to choose the pair, \\\\(5!\\\\) ways to arrange the blocks, and \\\\(2\\\\) ways to arrange the pair within the block. This gives \\\\(3 \\\\times 5! \\\\times 2 = 720\\\\).\\n   - **Case 2 (all three sitting next to each other)**: Treat the triplet as a single block. There are \\\\(4!\\\\) ways to arrange the blocks and \\\\(3!\\\\) ways to arrange the triplet within the block. This gives \\\\(4! \\\\times 3! = 144\\\\).\\n   - Using inclusion-exclusion, the total invalid arrangements are \\\\(720 - 720 + 144 = 144\\\\).\\n3. **Valid arrangements**: Subtract invalid arrangements from total arrangements: \\\\(720 - 144 = 576\\\\).\\n\\n**Solution 2**:\\n1. **Total arrangements**: Fix one person and arrange the remaining 6 people, giving \\\\(6! = 720\\\\) arrangements.\\n2. **Invalid arrangements (at least two of Pierre, Rosa, and Thomas sitting next to each other)**:\\n   - **Case 1 (exactly two sitting next to each other)**: Treat the pair as a single block. There are \\\\(5!\\\\) ways to arrange the blocks and \\\\(2\\\\) ways to arrange the pair within the block. However, the solution incorrectly subtracts the cases where all three are next to each other, leading to confusion.\\n   - **Case 2 (all three sitting next to each other)**: Treat the triplet as a single block. There are \\\\(4!\\\\) ways to arrange the blocks and \\\\(3!\\\\) ways to arrange the triplet within the block. This gives \\\\(4! \\\\times 3! = 144\\\\).\\n   - The solution incorrectly concludes that the number of invalid arrangements is 144, leading to a final answer of 144 valid arrangements.\\n\\n### Evaluation\\n\\n- **Solution 1** correctly applies the principle of inclusion-exclusion to calculate the number of invalid arrangements where at least two of Pierre, Rosa, and Thomas are sitting next to each other. The calculation is logically consistent and mathematically accurate, leading to the correct number of valid arrangements: \\\\(576\\\\).\\n- **Solution 2** makes an error in the application of inclusion-exclusion, leading to an incorrect calculation of invalid arrangements. The final answer of \\\\(144\\\\) is incorrect.\\n\\n### Conclusion\\n\\n**Solution 1** is the correct solution. The number of ways to seat 7 people around a round table such that no two of Pierre, Rosa, and Thomas sit next to each other is \\\\(\\\\boxed{576}\\\\).\",\n",
    "    \"finial_answer\": \"576\"\n",
    "  }\n",
    "\n",
    "print(a[\"question\"])\n",
    "print(a[\"solution_candidates\"][0])\n",
    "print(a[\"solution_candidates\"][1])\n",
    "print(a[\"finial_solution\"])"
   ]
  }
 ],
 "metadata": {
  "kernelspec": {
   "display_name": "open_reasoner",
   "language": "python",
   "name": "python3"
  },
  "language_info": {
   "codemirror_mode": {
    "name": "ipython",
    "version": 3
   },
   "file_extension": ".py",
   "mimetype": "text/x-python",
   "name": "python",
   "nbconvert_exporter": "python",
   "pygments_lexer": "ipython3",
   "version": "3.10.16"
  }
 },
 "nbformat": 4,
 "nbformat_minor": 2
}
