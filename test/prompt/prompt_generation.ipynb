{
 "cells": [
  {
   "cell_type": "code",
   "execution_count": null,
   "id": "c7c3029d",
   "metadata": {},
   "outputs": [],
   "source": [
    "from openai import OpenAI\n",
    "\n",
    "# Please install OpenAI SDK first: `pip3 install openai`\n",
    "client = OpenAI(\n",
    "    base_url=\"https://api.deepseek.com\",\n",
    "    api_key=\"sk-3660ca00f4d644e0b568e8da69c33be3\"\n",
    ")"
   ]
  },
  {
   "cell_type": "code",
   "execution_count": null,
   "id": "b9c6e2ee",
   "metadata": {},
   "outputs": [],
   "source": [
    "completion = client.chat.completions.create(\n",
    "    model=\"deepseek-chat\",\n",
    "    messages=[\n",
    "        {\n",
    "                \"role\": \"system\",\n",
    "                \"content\": \"你是一位大模型提示词生成专家，请根据用户的需求编写一个智能助手的提示词，来指导大模型进行内容生成，要求：\\n1. 以 Markdown 格式输出\\n2. 贴合用户需求，描述智能助手的定位、能力、知识储备\\n3. 提示词应清晰、精确、易于理解，在保持质量的同时，尽可能简洁\\n4. 只输出提示词，不要输出多余解释\"\n",
    "        },\n",
    "        {\n",
    "                \"role\": \"user\",\n",
    "                \"content\": \"请帮我生成一个“精简数学解答”的提示词：它能将给定的解决方案（Solution，即思维链推理步骤）进行内容精简，删除冗余内容，提示词请用英文输出\"\n",
    "        }\n",
    "    ],\n",
    "    stream=False\n",
    ")\n",
    "\n",
    "print(completion.choices[0].message.content)"
   ]
  }
 ],
 "metadata": {
  "kernelspec": {
   "display_name": "open_reasoner",
   "language": "python",
   "name": "python3"
  },
  "language_info": {
   "codemirror_mode": {
    "name": "ipython",
    "version": 3
   },
   "file_extension": ".py",
   "mimetype": "text/x-python",
   "name": "python",
   "nbconvert_exporter": "python",
   "pygments_lexer": "ipython3",
   "version": "3.10.16"
  }
 },
 "nbformat": 4,
 "nbformat_minor": 5
}
