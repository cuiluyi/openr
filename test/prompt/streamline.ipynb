{
 "cells": [
  {
   "cell_type": "code",
   "execution_count": 1,
   "metadata": {},
   "outputs": [],
   "source": [
    "import os\n",
    "os.environ[\"CUDA_VISIBLE_DEVICES\"] = \"6, 7\""
   ]
  },
  {
   "cell_type": "code",
   "execution_count": 2,
   "metadata": {},
   "outputs": [
    {
     "name": "stderr",
     "output_type": "stream",
     "text": [
      "/data/cuiluyi/anaconda3/envs/open_reasoner/lib/python3.10/site-packages/tqdm/auto.py:21: TqdmWarning: IProgress not found. Please update jupyter and ipywidgets. See https://ipywidgets.readthedocs.io/en/stable/user_install.html\n",
      "  from .autonotebook import tqdm as notebook_tqdm\n",
      "Sliding Window Attention is enabled but not implemented for `sdpa`; unexpected results may be encountered.\n",
      "Loading checkpoint shards: 100%|██████████| 4/4 [00:04<00:00,  1.04s/it]\n"
     ]
    }
   ],
   "source": [
    "from transformers import AutoModelForCausalLM, AutoTokenizer\n",
    "\n",
    "model_name = \"/data/cuiluyi/resources/models/Qwen/Qwen2.5-Math-7B-Instruct\"\n",
    "# model_name = \"/data/cuiluyi/resources/models/Qwen/Qwen2.5-Math-1.5B\"\n",
    "device = \"cuda\" # the device to load the model onto\n",
    "\n",
    "model = AutoModelForCausalLM.from_pretrained(\n",
    "    model_name,\n",
    "    torch_dtype=\"auto\",\n",
    "    device_map=\"auto\"\n",
    ")\n",
    "tokenizer = AutoTokenizer.from_pretrained(model_name)"
   ]
  },
  {
   "cell_type": "code",
   "execution_count": null,
   "metadata": {},
   "outputs": [],
   "source": [
    "system_prompt = \"please think step by step\"\n",
    "user_prompt = \"\"\"\n",
    "Please delete the redundant content in the following solution:\n",
    "\n",
    "To determine the smallest possible value of \\\\( c \\\\) for the function \\\\( y = a \\\\sin (bx + c) + d \\\\), we need to analyze the given graph and extract information about the parameters \\\\( a \\\\), \\\\( b \\\\), \\\\( c \\\\), and \\\\( d \\\\).\\n\\nFirst, observe the amplitude \\\\( a \\\\). The amplitude is the maximum deviation from the midline of the sine wave. From the graph, the maximum value is 3 and the minimum value is -1. The midline is the average of these values:\\n\\\\[\\n\\\\text{Midline} = \\\\frac{3 + (-1)}{2} = 1\\n\\\\]\\nThe amplitude \\\\( a \\\\) is the distance from the midline to the maximum value:\\n\\\\[\\na = 3 - 1 = 2\\n\\\\]\\n\\nNext, determine the period of the sine wave. The period \\\\( T \\\\) is the length of one complete cycle of the sine wave. From the graph, the period appears to be \\\\( \\\\frac{2\\\\pi}{3} \\\\). The period of the sine function \\\\( y = a \\\\sin (bx + c) + d \\\\) is given by:\\n\\\\[\\nT = \\\\frac{2\\\\pi}{b}\\n\\\\]\\nSetting this equal to the observed period:\\n\\\\[\\n\\\\frac{2\\\\pi}{b} = \\\\frac{2\\\\pi}{3}\\n\\\\]\\nSolving for \\\\( b \\\\):\\n\\\\[\\nb = 3\\n\\\\]\\n\\nNow, determine the vertical shift \\\\( d \\\\). The vertical shift is the value of the midline:\\n\\\\[\\nd = 1\\n\\\\]\\n\\nFinally, determine the phase shift \\\\( c \\\\). The phase shift is the horizontal shift of the sine wave. The standard sine function \\\\( y = \\\\sin x \\\\) starts at \\\\( x = 0 \\\\). For the function \\\\( y = 2 \\\\sin (3x + c) + 1 \\\\), the phase shift is given by:\\n\\\\[\\n\\\\text{Phase shift} = -\\\\frac{c}{b} = -\\\\frac{c}{3}\\n\\\\]\\nFrom the graph, the sine wave starts at \\\\( x = -\\\\frac{\\\\pi}{6} \\\\). Therefore, the phase shift is:\\n\\\\[\\n-\\\\frac{c}{3} = -\\\\frac{\\\\pi}{6}\\n\\\\]\\nSolving for \\\\( c \\\\):\\n\\\\[\\nc = \\\\frac{\\\\pi}{2}\\n\\\\]\\n\\nThus, the smallest possible value of \\\\( c \\\\) is:\\n\\\\[\\n\\\\boxed{\\\\frac{\\\\pi}{2}}\\n\\\\]\n",
    "\"\"\"\n",
    "# \"\"\"\n",
    "# Role: Math Solution Simplifier\n",
    "\n",
    "# ## Profile\n",
    "# - **Purpose**: Condense mathematical solutions by removing redundant steps while preserving logical flow and accuracy.  \n",
    "# - **Skills**:  \n",
    "#   - Identifies core reasoning steps in proofs/solutions.  \n",
    "#   - Eliminates repetitive calculations or verbose explanations.  \n",
    "#   - Maintains mathematical rigor and clarity.  \n",
    "# - **Knowledge**: Formal logic, common mathematical redundancies (e.g., over-explained axioms), and STEM writing conventions.  \n",
    "\n",
    "# ## Rules\n",
    "# 1. **Input**: A detailed mathematical solution (LaTeX/markdown/text).  \n",
    "# 2. **Output**: A streamlined version with:  \n",
    "#    - Only essential steps.  \n",
    "#    - No repeated formulas/definitions.  \n",
    "#    - Concise phrasing (e.g., \"∵ symmetry\" vs. \"due to the symmetric property of...\").  \n",
    "# 3. **Preserve**: Key conclusions, non-trivial deductions, and original notation.  \n",
    "\n",
    "# ## Workflow\n",
    "# 1. Parse the solution into logical segments.  \n",
    "# 2. For each segment:  \n",
    "#    - **Check**: Is this step *necessary* for correctness or clarity?  \n",
    "#    - **Cut**: Explanations of basic concepts, intermediate arithmetic.  \n",
    "#    - **Keep**: Novel insights, critical dependencies.  \n",
    "# 3. Reconstruct the solution with minimal viable steps.  \n",
    "\n",
    "# ## Output Format\n",
    "# ```markdown\n",
    "# ### Simplified Solution  \n",
    "# [Condensed steps, 30-50% shorter than original]\n",
    "# ```  \n",
    "\n",
    "# ## Example (Input → Output)\n",
    "\n",
    "# Note: Output the simplified solution directly.\n",
    "\n",
    "# ### Input\n",
    "# To find the result of rotating the complex number \\\\( z = 2 + \\\\sqrt{2} - (3 + 3 \\\\sqrt{2})i \\\\) around the complex number \\\\( c = 2 - 3i \\\\) by \\\\(\\\\frac{\\\\pi}{4}\\\\) counter-clockwise, we need to follow these steps:\\n\\n1. **Translate \\\\( z \\\\) so that \\\\( c \\\\) is at the origin:**\\n   \\\\[\\n   z' = z - c\\n   \\\\]\\n   Substituting the given values:\\n   \\\\[\\n   z' = (2 + \\\\sqrt{2} - (3 + 3 \\\\sqrt{2})i) - (2 - 3i)\\n   \\\\]\\n   Simplify the real and imaginary parts separately:\\n   \\\\[\\n   z' = (2 + \\\\sqrt{2} - 2) + (- (3 + 3 \\\\sqrt{2})i + 3i)\\n   \\\\]\\n   \\\\[\\n   z' = \\\\sqrt{2} - (3 + 3 \\\\sqrt{2} - 3)i\\n   \\\\]\\n   \\\\[\\n   z' = \\\\sqrt{2} - 3 \\\\sqrt{2} i\\n   \\\\]\\n\\n2. **Rotate \\\\( z' \\\\) by \\\\(\\\\frac{\\\\pi}{4}\\\\) counter-clockwise:**\\n   To rotate a complex number \\\\( z' = a + bi \\\\) by an angle \\\\(\\\\theta\\\\), we multiply it by \\\\( e^{i\\\\theta} \\\\). For \\\\(\\\\theta = \\\\frac{\\\\pi}{4}\\\\):\\n   \\\\[\\n   e^{i\\\\frac{\\\\pi}{4}} = \\\\cos\\\\left(\\\\frac{\\\\pi}{4}\\\\right) + i \\\\sin\\\\left(\\\\frac{\\\\pi}{4}\\\\right) = \\\\frac{\\\\sqrt{2}}{2} + i \\\\frac{\\\\sqrt{2}}{2}\\n   \\\\]\\n   Therefore, the rotation is:\\n   \\\\[\\n   z'' = z' \\\\cdot e^{i\\\\frac{\\\\pi}{4}}\\n   \\\\]\\n   Substituting \\\\( z' = \\\\sqrt{2} - 3 \\\\sqrt{2} i \\\\):\\n   \\\\[\\n   z'' = (\\\\sqrt{2} - 3 \\\\sqrt{2} i) \\\\left( \\\\frac{\\\\sqrt{2}}{2} + i \\\\frac{\\\\sqrt{2}}{2} \\\\right)\\n   \\\\]\\n   Use the distributive property (FOIL method):\\n   \\\\[\\n   z'' = \\\\sqrt{2} \\\\cdot \\\\frac{\\\\sqrt{2}}{2} + \\\\sqrt{2} \\\\cdot i \\\\frac{\\\\sqrt{2}}{2} - 3 \\\\sqrt{2} i \\\\cdot \\\\frac{\\\\sqrt{2}}{2} - 3 \\\\sqrt{2} i \\\\cdot i \\\\frac{\\\\sqrt{2}}{2}\\n   \\\\]\\n   Simplify each term:\\n   \\\\[\\n   z'' = \\\\frac{2}{2} + i \\\\frac{2}{2} - i \\\\frac{6}{2} - 3 \\\\cdot \\\\frac{2}{2} i^2\\n   \\\\]\\n   \\\\[\\n   z'' = 1 + i - 3i + 3\\n   \\\\]\\n   Combine like terms:\\n   \\\\[\\n   z'' = 4 - 2i\\n   \\\\]\\n\\n3. **Translate back to the original coordinate system:**\\n   \\\\[\\n   w = z'' + c\\n   \\\\]\\n   Substituting the values:\\n   \\\\[\\n   w = (4 - 2i) + (2 - 3i)\\n   \\\\]\\n   Simplify the real and imaginary parts separately:\\n   \\\\[\\n   w = 4 + 2 - 2i - 3i\\n   \\\\]\\n   \\\\[\\n   w = 6 - 5i\\n   \\\\]\\n\\nThus, the result of rotating \\\\( z \\\\) around \\\\( c \\\\) by \\\\(\\\\frac{\\\\pi}{4}\\\\) counter-clockwise is:\\n\\\\[\\n\\\\boxed{6 - 5i}\\n\\\\]\n",
    "\n",
    "# ### Output\n",
    "# To rotate the complex number  \\n\\\\[\\nz = 2 + \\\\sqrt{2} - (3 + 3\\\\sqrt{2})i\\n\\\\]  \\naround  \\n\\\\[\\nc = 2 - 3i\\n\\\\]  \\nby \\\\( \\x0crac{\\\\pi}{4} \\\\) counter-clockwise:\\n\\n1. **Translate \\\\( z \\\\) so that \\\\( c \\\\) is at the origin:**  \\n\\\\[\\nz' = z - c = (2 + \\\\sqrt{2} - (3 + 3\\\\sqrt{2})i) - (2 - 3i) = \\\\sqrt{2} - 3\\\\sqrt{2}i\\n\\\\]\\n\\n2. **Rotate \\\\( z' \\\\) by \\\\( \\x0crac{\\\\pi}{4} \\\\):**  \\nMultiplying by \\\\( e^{i\\\\pi/4} = \\x0crac{\\\\sqrt{2}}{2}(1 + i) \\\\):  \\n\\\\[\\nz'' = (\\\\sqrt{2} - 3\\\\sqrt{2}i) \\\\cdot \\x0crac{\\\\sqrt{2}}{2}(1 + i)\\n\\\\]  \\n\\\\[\\n= \\x0crac{1}{2}(2 - 6i + 2i + 6) = 1 + i - 3i + 3 = 4 - 2i\\n\\\\]\\n\\n3. **Translate back:**  \\n\\\\[\\nw = z'' + c = (4 - 2i) + (2 - 3i) = 6 - 5i\\n\\\\]\\n\\n**Final answer:**  \\n\\\\[\\n\\x08oxed{6 - 5i}\\n\\\\]\\n\n",
    "\n",
    "# ## Get started\n",
    "\n",
    "# The input above is the task for you, please refer to the above content and give me the output.\n",
    "\n",
    "# ### input\n",
    "# To determine the smallest possible value of \\\\( c \\\\) for the function \\\\( y = a \\\\sin (bx + c) + d \\\\), we need to analyze the given graph and extract information about the parameters \\\\( a \\\\), \\\\( b \\\\), \\\\( c \\\\), and \\\\( d \\\\).\\n\\nFirst, observe the amplitude \\\\( a \\\\). The amplitude is the maximum deviation from the midline of the sine wave. From the graph, the maximum value is 3 and the minimum value is -1. The midline is the average of these values:\\n\\\\[\\n\\\\text{Midline} = \\\\frac{3 + (-1)}{2} = 1\\n\\\\]\\nThe amplitude \\\\( a \\\\) is the distance from the midline to the maximum value:\\n\\\\[\\na = 3 - 1 = 2\\n\\\\]\\n\\nNext, determine the period of the sine wave. The period \\\\( T \\\\) is the length of one complete cycle of the sine wave. From the graph, the period appears to be \\\\( \\\\frac{2\\\\pi}{3} \\\\). The period of the sine function \\\\( y = a \\\\sin (bx + c) + d \\\\) is given by:\\n\\\\[\\nT = \\\\frac{2\\\\pi}{b}\\n\\\\]\\nSetting this equal to the observed period:\\n\\\\[\\n\\\\frac{2\\\\pi}{b} = \\\\frac{2\\\\pi}{3}\\n\\\\]\\nSolving for \\\\( b \\\\):\\n\\\\[\\nb = 3\\n\\\\]\\n\\nNow, determine the vertical shift \\\\( d \\\\). The vertical shift is the value of the midline:\\n\\\\[\\nd = 1\\n\\\\]\\n\\nFinally, determine the phase shift \\\\( c \\\\). The phase shift is the horizontal shift of the sine wave. The standard sine function \\\\( y = \\\\sin x \\\\) starts at \\\\( x = 0 \\\\). For the function \\\\( y = 2 \\\\sin (3x + c) + 1 \\\\), the phase shift is given by:\\n\\\\[\\n\\\\text{Phase shift} = -\\\\frac{c}{b} = -\\\\frac{c}{3}\\n\\\\]\\nFrom the graph, the sine wave starts at \\\\( x = -\\\\frac{\\\\pi}{6} \\\\). Therefore, the phase shift is:\\n\\\\[\\n-\\\\frac{c}{3} = -\\\\frac{\\\\pi}{6}\\n\\\\]\\nSolving for \\\\( c \\\\):\\n\\\\[\\nc = \\\\frac{\\\\pi}{2}\\n\\\\]\\n\\nThus, the smallest possible value of \\\\( c \\\\) is:\\n\\\\[\\n\\\\boxed{\\\\frac{\\\\pi}{2}}\\n\\\\]\n",
    "\n",
    "# \"\"\""
   ]
  },
  {
   "cell_type": "code",
   "execution_count": 17,
   "metadata": {},
   "outputs": [],
   "source": [
    "# CoT\n",
    "messages = [\n",
    "    {\"role\": \"system\", \"content\": system_prompt},\n",
    "    {\"role\": \"user\", \"content\": user_prompt}\n",
    "]\n",
    "\n",
    "text = tokenizer.apply_chat_template(\n",
    "    messages,\n",
    "    tokenize=False,\n",
    "    add_generation_prompt=True,\n",
    ")"
   ]
  },
  {
   "cell_type": "code",
   "execution_count": 19,
   "metadata": {},
   "outputs": [
    {
     "name": "stdout",
     "output_type": "stream",
     "text": [
      "To determine the smallest possible value of \\( c \\) for the function \\( y = a \\sin (bx + c) + d \\), we need to analyze the given graph and extract information about the parameters \\( a \\), \\( b \\), \\( c \\), and \\( d \\).\n",
      "\n",
      "First, observe the amplitude \\( a \\). The amplitude is the maximum deviation from the midline of the sine wave. From the graph, the maximum value is 3 and the minimum value is -1. The midline is the average of these values:\n",
      "\\[\n",
      "\\text{Midline} = \\frac{3 + (-1)}{2} = 1\n",
      "\\]\n",
      "The amplitude \\( a \\) is the distance from the midline to the maximum value:\n",
      "\\[\n",
      "a = 3 - 1 = 2\n",
      "\\]\n",
      "\n",
      "Next, determine the period of the sine wave. The period \\( T \\) is the length of one complete cycle of the sine wave. From the graph, the period appears to be \\( \\frac{2\\pi}{3} \\). The period of the sine function \\( y = a \\sin (bx + c) + d \\) is given by:\n",
      "\\[\n",
      "T = \\frac{2\\pi}{b}\n",
      "\\]\n",
      "Setting this equal to the observed period:\n",
      "\\[\n",
      "\\frac{2\\pi}{b} = \\frac{2\\pi}{3}\n",
      "\\]\n",
      "Solving for \\( b \\):\n",
      "\\[\n",
      "b = 3\n",
      "\\]\n",
      "\n",
      "Now, determine the vertical shift \\( d \\). The vertical shift is the value of the midline:\n",
      "\\[\n",
      "d = 1\n",
      "\\]\n",
      "\n",
      "Finally, determine the phase shift \\( c \\). The phase shift is the horizontal shift of the sine wave. The standard sine function \\( y = \\sin x \\) starts at \\( x = 0 \\). For the function \\( y = 2 \\sin (3x + c) + 1 \\), the phase shift is given by:\n",
      "\\[\n",
      "\\text{Phase shift} = -\\frac{c}{b} = -\\frac{c}{3}\n",
      "\\]\n",
      "From the graph, the sine wave starts at \\( x = -\\frac{\\pi}{6} \\). Therefore, the phase shift is:\n",
      "\\[\n",
      "-\\frac{c}{3} = -\\frac{\\pi}{6}\n",
      "\\]\n",
      "Solving for \\( c \\):\n",
      "\\[\n",
      "c = \\frac{\\pi}{2}\n",
      "\\]\n",
      "\n",
      "Thus, the smallest possible value of \\( c \\) is:\n",
      "\\[\n",
      "\\boxed{\\frac{\\pi}{2}}\n",
      "\\]\n"
     ]
    }
   ],
   "source": [
    "model_inputs = tokenizer([text], return_tensors=\"pt\").to(device)\n",
    "\n",
    "generated_ids = model.generate(\n",
    "    **model_inputs,\n",
    "    max_new_tokens=4096,\n",
    ")\n",
    "generated_ids = [\n",
    "    output_ids[len(input_ids):] for input_ids, output_ids in zip(model_inputs.input_ids, generated_ids)\n",
    "]\n",
    "\n",
    "response = tokenizer.batch_decode(generated_ids, skip_special_tokens=True)[0]\n",
    "\n",
    "print(response)"
   ]
  },
  {
   "cell_type": "code",
   "execution_count": 20,
   "metadata": {},
   "outputs": [
    {
     "name": "stdout",
     "output_type": "stream",
     "text": [
      "1645\n"
     ]
    }
   ],
   "source": [
    "print(len(response))"
   ]
  },
  {
   "cell_type": "code",
   "execution_count": 25,
   "metadata": {},
   "outputs": [
    {
     "name": "stdout",
     "output_type": "stream",
     "text": [
      "'To determine the smallest possible value of \\\\( c \\\\) for the function \\\\( y = a \\\\sin (bx + c) + d \\\\), we analyze the graph to extract \\\\( a \\\\), \\\\( b \\\\), \\\\( c \\\\), and \\\\( d \\\\).\\n\\nFirst, observe the amplitude \\\\( a \\\\). The maximum value is 3 and the minimum is -1, so the midline is:\\n\\\\[\\n\\text{Midline} = \\x0crac{3 + (-1)}{2} = 1\\n\\\\]\\n\\\\[\\na = 3 - 1 = 2\\n\\\\]\\n\\nNext, determine the period. From the graph, the period is \\\\( \\x0crac{2\\\\pi}{3} \\\\). Since\\n\\\\[\\n\\x0crac{2\\\\pi}{b} = \\x0crac{2\\\\pi}{3} \\\\Rightarrow b = 3\\n\\\\]\\n\\nNow, determine the vertical shift:\\n\\\\[\\nd = 1\\n\\\\]\\n\\nFinally, determine the phase shift. The function is \\\\( y = 2 \\\\sin (3x + c) + 1 \\\\), so the phase shift is:\\n\\\\[\\n-\\x0crac{c}{3}\\n\\\\]\\nFrom the graph, the sine wave starts at \\\\( x = -\\x0crac{\\\\pi}{6} \\\\), so:\\n\\\\[\\n-\\x0crac{c}{3} = -\\x0crac{\\\\pi}{6} \\\\Rightarrow c = \\x0crac{\\\\pi}{2}\\n\\\\]\\n\\n\\\\[\\n\\x08oxed{\\x0crac{\\\\pi}{2}}\\n\\\\]'\n"
     ]
    }
   ],
   "source": [
    "system = \"\"\"To determine the smallest possible value of \\( c \\) for the function \\( y = a \\sin (bx + c) + d \\), we analyze the graph to extract \\( a \\), \\( b \\), \\( c \\), and \\( d \\).\n",
    "\n",
    "First, observe the amplitude \\( a \\). The maximum value is 3 and the minimum is -1, so the midline is:\n",
    "\\[\n",
    "\\text{Midline} = \\frac{3 + (-1)}{2} = 1\n",
    "\\]\n",
    "\\[\n",
    "a = 3 - 1 = 2\n",
    "\\]\n",
    "\n",
    "Next, determine the period. From the graph, the period is \\( \\frac{2\\pi}{3} \\). Since\n",
    "\\[\n",
    "\\frac{2\\pi}{b} = \\frac{2\\pi}{3} \\Rightarrow b = 3\n",
    "\\]\n",
    "\n",
    "Now, determine the vertical shift:\n",
    "\\[\n",
    "d = 1\n",
    "\\]\n",
    "\n",
    "Finally, determine the phase shift. The function is \\( y = 2 \\sin (3x + c) + 1 \\), so the phase shift is:\n",
    "\\[\n",
    "-\\frac{c}{3}\n",
    "\\]\n",
    "From the graph, the sine wave starts at \\( x = -\\frac{\\pi}{6} \\), so:\n",
    "\\[\n",
    "-\\frac{c}{3} = -\\frac{\\pi}{6} \\Rightarrow c = \\frac{\\pi}{2}\n",
    "\\]\n",
    "\n",
    "\\[\n",
    "\\boxed{\\frac{\\pi}{2}}\n",
    "\\]\"\"\"\n",
    "\n",
    "print(repr(system))"
   ]
  },
  {
   "cell_type": "code",
   "execution_count": null,
   "metadata": {},
   "outputs": [
    {
     "name": "stdout",
     "output_type": "stream",
     "text": [
      "811\n"
     ]
    },
    {
     "ename": "",
     "evalue": "",
     "output_type": "error",
     "traceback": [
      "\u001b[1;31m在当前单元格或上一个单元格中执行代码时 Kernel 崩溃。\n",
      "\u001b[1;31m请查看单元格中的代码，以确定故障的可能原因。\n",
      "\u001b[1;31m单击<a href='https://aka.ms/vscodeJupyterKernelCrash'>此处</a>了解详细信息。\n",
      "\u001b[1;31m有关更多详细信息，请查看 Jupyter <a href='command:jupyter.viewOutput'>log</a>。"
     ]
    }
   ],
   "source": [
    "print(len(system))"
   ]
  }
 ],
 "metadata": {
  "kernelspec": {
   "display_name": "open_reasoner",
   "language": "python",
   "name": "python3"
  },
  "language_info": {
   "codemirror_mode": {
    "name": "ipython",
    "version": 3
   },
   "file_extension": ".py",
   "mimetype": "text/x-python",
   "name": "python",
   "nbconvert_exporter": "python",
   "pygments_lexer": "ipython3",
   "version": "3.10.16"
  }
 },
 "nbformat": 4,
 "nbformat_minor": 2
}
